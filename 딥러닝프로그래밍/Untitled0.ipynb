{
  "nbformat": 4,
  "nbformat_minor": 0,
  "metadata": {
    "colab": {
      "provenance": [],
      "authorship_tag": "ABX9TyOyCNC6W6gB5SGRH1Fu6FhE",
      "include_colab_link": true
    },
    "kernelspec": {
      "name": "python3",
      "display_name": "Python 3"
    },
    "language_info": {
      "name": "python"
    }
  },
  "cells": [
    {
      "cell_type": "markdown",
      "metadata": {
        "id": "view-in-github",
        "colab_type": "text"
      },
      "source": [
        "<a href=\"https://colab.research.google.com/github/martinkim1/a-school-lecture/blob/main/%EB%94%A5%EB%9F%AC%EB%8B%9D%ED%94%84%EB%A1%9C%EA%B7%B8%EB%9E%98%EB%B0%8D/Untitled0.ipynb\" target=\"_parent\"><img src=\"https://colab.research.google.com/assets/colab-badge.svg\" alt=\"Open In Colab\"/></a>"
      ]
    },
    {
      "cell_type": "code",
      "source": [],
      "metadata": {
        "id": "fLbXKFTO2kFl"
      },
      "execution_count": null,
      "outputs": []
    },
    {
      "cell_type": "code",
      "source": [
        "import tensorflow.compat.v1 as tf\n",
        "tf.disable_v2_behavior()\n",
        "\n",
        "a = tf.placeholder(tf.int32)\n",
        "b = tf.placeholder(tf.int32)\n",
        "c = tf.placeholder(tf.float32)\n",
        "d = tf.placeholder(tf.float32)\n",
        "\n",
        "addOperation = tf.add(a,b)\n",
        "minusOperation = tf.subtract(a,b)\n",
        "mulOperation = tf.multiply(a,b)\n",
        "divOperation = tf.div(c,d)\n",
        "\n",
        "init = tf.global_variables_initializer()\n",
        "\n",
        "with tf.compat.v1.Session() as sess:\n",
        "    sess.run(init)\n",
        "    print(\"Plus => \", sess.run(addOperation, {a: [[1,2,3], [1,2,3]], b: [[5,2,3], [1,2,3]]}))\n",
        "    print(\"Minus => \", sess.run(minusOperation, {a: [[1,2,3], [1,2,3]], b: [[5,2,3], [1,2,3]]}))\n",
        "    print(\"Multiply => \", sess.run(mulOperation, {a: [[1,2,3], [1,2,3]], b: [[5,2,3], [1,2,3]]}))\n",
        "    print(\"Div => \", sess.run(divOperation, {c: [[1,2,3], [1,2,3]], d: [[5,2,3], [1,2,3]]}))\n",
        ""
      ],
      "metadata": {
        "colab": {
          "base_uri": "https://localhost:8080/"
        },
        "id": "o_-lQBvQnFM2",
        "outputId": "d4f4d85d-d49d-430d-9017-f3c191b5bbc9"
      },
      "execution_count": 5,
      "outputs": [
        {
          "output_type": "stream",
          "name": "stderr",
          "text": [
            "WARNING:tensorflow:From /usr/local/lib/python3.10/dist-packages/tensorflow/python/util/dispatch.py:1260: div (from tensorflow.python.ops.math_ops) is deprecated and will be removed in a future version.\n",
            "Instructions for updating:\n",
            "Deprecated in favor of operator or tf.math.divide.\n"
          ]
        },
        {
          "output_type": "stream",
          "name": "stdout",
          "text": [
            "Plus =>  [[6 4 6]\n",
            " [2 4 6]]\n",
            "Minus =>  [[-4  0  0]\n",
            " [ 0  0  0]]\n",
            "Multiply =>  [[5 4 9]\n",
            " [1 4 9]]\n",
            "Div =>  [[0.2 1.  1. ]\n",
            " [1.  1.  1. ]]\n"
          ]
        }
      ]
    },
    {
      "cell_type": "markdown",
      "source": [
        "## 3차원 행렬곱"
      ],
      "metadata": {
        "id": "Eho5aVf53ljY"
      }
    },
    {
      "cell_type": "code",
      "source": [
        "import tensorflow.compat.v1 as tf\n",
        "tf.disable_v2_behavior()\n",
        "\n",
        "a = tf.placeholder(tf.int32)\n",
        "b = tf.placeholder(tf.int32)\n",
        "\n",
        "addOperation = tf.matmul(a,b)\n",
        "\n",
        "init = tf.global_variables_initializer()\n",
        "\n",
        "with tf.compat.v1.Session() as sess:\n",
        "    sess.run(init)\n",
        "    print(\"Plus => \", sess.run(addOperation, {a: [[1,2,3], [1,2,3], [1,2,3]], b: [[5,2,3], [1,2,3]]}))\n",
        "    print(\"Minus => \", sess.run(minusOperation, {a: [[1,2,3], [1,2,3]], b: [[5,2,3], [1,2,3]]}))\n",
        "    print(\"Multiply => \", sess.run(mulOperation, {a: [[1,2,3], [1,2,3]], b: [[5,2,3], [1,2,3]]}))\n",
        "    print(\"Div => \", sess.run(divOperation, {c: [[1,2,3], [1,2,3]], d: [[5,2,3], [1,2,3]]}))"
      ],
      "metadata": {
        "id": "oQT1PlDD2lI-"
      },
      "execution_count": null,
      "outputs": []
    }
  ]
}