{
  "nbformat": 4,
  "nbformat_minor": 0,
  "metadata": {
    "colab": {
      "provenance": [],
      "authorship_tag": "ABX9TyOyCNC6W6gB5SGRH1Fu6FhE",
      "include_colab_link": true
    },
    "kernelspec": {
      "name": "python3",
      "display_name": "Python 3"
    },
    "language_info": {
      "name": "python"
    }
  },
  "cells": [
    {
      "cell_type": "markdown",
      "metadata": {
        "id": "view-in-github",
        "colab_type": "text"
      },
      "source": [
        "<a href=\"https://colab.research.google.com/github/martinkim1/a-school-lecture/blob/main/%EB%94%A5%EB%9F%AC%EB%8B%9D%ED%94%84%EB%A1%9C%EA%B7%B8%EB%9E%98%EB%B0%8D/2%EC%A3%BC%EC%B0%A8%200313/Untitled0.ipynb\" target=\"_parent\"><img src=\"https://colab.research.google.com/assets/colab-badge.svg\" alt=\"Open In Colab\"/></a>"
      ]
    },
    {
      "cell_type": "code",
      "source": [],
      "metadata": {
        "id": "fLbXKFTO2kFl"
      },
      "execution_count": null,
      "outputs": []
    },
    {
      "cell_type": "code",
      "source": [
        "import tensorflow.compat.v1 as tf\n",
        "tf.disable_v2_behavior()\n",
        "\n",
        "a = tf.placeholder(tf.int32)\n",
        "b = tf.placeholder(tf.int32)\n",
        "c = tf.placeholder(tf.float32)\n",
        "d = tf.placeholder(tf.float32)\n",
        "\n",
        "addOperation = tf.add(a,b)\n",
        "minusOperation = tf.subtract(a,b)\n",
        "mulOperation = tf.multiply(a,b)\n",
        "divOperation = tf.div(c,d)\n",
        "\n",
        "init = tf.global_variables_initializer()\n",
        "\n",
        "with tf.compat.v1.Session() as sess:\n",
        "    sess.run(init)\n",
        "    print(\"Plus => \", sess.run(addOperation, {a: [[1,2,3], [1,2,3]], b: [[5,2,3], [1,2,3]]}))\n",
        "    print(\"Minus => \", sess.run(minusOperation, {a: [[1,2,3], [1,2,3]], b: [[5,2,3], [1,2,3]]}))\n",
        "    print(\"Multiply => \", sess.run(mulOperation, {a: [[1,2,3], [1,2,3]], b: [[5,2,3], [1,2,3]]}))\n",
        "    print(\"Div => \", sess.run(divOperation, {c: [[1,2,3], [1,2,3]], d: [[5,2,3], [1,2,3]]}))\n"
      ],
      "metadata": {
        "id": "o_-lQBvQnFM2"
      },
      "execution_count": null,
      "outputs": []
    },
    {
      "cell_type": "markdown",
      "source": [
        "## 3차원 행렬곱"
      ],
      "metadata": {
        "id": "Eho5aVf53ljY"
      }
    },
    {
      "cell_type": "code",
      "source": [
        "import tensorflow.compat.v1 as tf\n",
        "tf.disable_v2_behavior()\n",
        "\n",
        "a = tf.placeholder(tf.int32)\n",
        "b = tf.placeholder(tf.int32)\n",
        "\n",
        "addOperation = tf.matmul(a,b)\n",
        "\n",
        "init = tf.global_variables_initializer()\n",
        "\n",
        "with tf.compat.v1.Session() as sess:\n",
        "    sess.run(init)\n",
        "    print(\"Plus => \", sess.run(addOperation, {a: [[1,2,3], [1,2,3], [1,2,3]], b: [[5,2,3], [1,2,3]]}))\n",
        "    print(\"Minus => \", sess.run(minusOperation, {a: [[1,2,3], [1,2,3]], b: [[5,2,3], [1,2,3]]}))\n",
        "    print(\"Multiply => \", sess.run(mulOperation, {a: [[1,2,3], [1,2,3]], b: [[5,2,3], [1,2,3]]}))\n",
        "    print(\"Div => \", sess.run(divOperation, {c: [[1,2,3], [1,2,3]], d: [[5,2,3], [1,2,3]]}))"
      ],
      "metadata": {
        "id": "oQT1PlDD2lI-"
      },
      "execution_count": null,
      "outputs": []
    }
  ]
}